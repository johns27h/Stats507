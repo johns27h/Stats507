{
 "cells": [
  {
   "cell_type": "markdown",
   "id": "cef862b7",
   "metadata": {},
   "source": [
    "# Heather Johnston\n",
    "**hajohns@umich.edu**\n",
    "\n",
    "*Stats 507, Pandas Topics, Fall 2021*"
   ]
  },
  {
   "cell_type": "markdown",
   "id": "fe1f6421",
   "metadata": {},
   "source": [
    "# Question 0: Topic in Pandas\n",
    "\n",
    "## Stack and Unstack\n",
    "* Stack and Unstack are similar to \"melt\" and \"pivot\" methods for transforming data\n",
    "* R users may be familiar with \"pivot_wider\" and \"pivot_longer\" (formerly \"spread\" and \"gather\")\n",
    "* Stack transforms column names to new index and values to column\n",
    "\n",
    "## Example: Stack\n",
    "* Consider the `example` DataFrame below to be measurements of some value taken on different days at different times.\n",
    "* It would be natural to want these to be \"gathered\" into long format, which we can do using `stack`"
   ]
  },
  {
   "cell_type": "code",
   "execution_count": 22,
   "id": "3e06e06e",
   "metadata": {},
   "outputs": [
    {
     "name": "stdout",
     "output_type": "stream",
     "text": [
      "           morning  afternoon\n",
      "day                          \n",
      "Monday           4          8\n",
      "Wednesday        5          9\n",
      "Friday           6          0\n",
      "day                 \n",
      "Monday     morning      4\n",
      "           afternoon    8\n",
      "Wednesday  morning      5\n",
      "           afternoon    9\n",
      "Friday     morning      6\n",
      "           afternoon    0\n",
      "dtype: int64\n"
     ]
    }
   ],
   "source": [
    "example = pd.DataFrame({\"day\":[\"Monday\", \"Wednesday\", \"Friday\"],\n",
    "                        \"morning\":[4, 5, 6],\n",
    "                        \"afternoon\":[8, 9, 0]})\n",
    "example.set_index(\"day\", inplace=True)\n",
    "print(example)\n",
    "print(example.stack())"
   ]
  },
  {
   "cell_type": "markdown",
   "id": "bda3d487",
   "metadata": {},
   "source": [
    "## Example: Unstack\n",
    "* Conversely, for displaying data, it's often handy to have it in a wider format\n",
    "* Unstack is especially convenient after using `groupby` on a dataframe"
   ]
  },
  {
   "cell_type": "code",
   "execution_count": 33,
   "id": "2ed45074",
   "metadata": {},
   "outputs": [
    {
     "data": {
      "text/html": [
       "<div>\n",
       "<style scoped>\n",
       "    .dataframe tbody tr th:only-of-type {\n",
       "        vertical-align: middle;\n",
       "    }\n",
       "\n",
       "    .dataframe tbody tr th {\n",
       "        vertical-align: top;\n",
       "    }\n",
       "\n",
       "    .dataframe thead tr th {\n",
       "        text-align: left;\n",
       "    }\n",
       "\n",
       "    .dataframe thead tr:last-of-type th {\n",
       "        text-align: right;\n",
       "    }\n",
       "</style>\n",
       "<table border=\"1\" class=\"dataframe\">\n",
       "  <thead>\n",
       "    <tr>\n",
       "      <th></th>\n",
       "      <th colspan=\"2\" halign=\"left\">score</th>\n",
       "      <th colspan=\"2\" halign=\"left\">value</th>\n",
       "    </tr>\n",
       "    <tr>\n",
       "      <th>program</th>\n",
       "      <th>x</th>\n",
       "      <th>y</th>\n",
       "      <th>x</th>\n",
       "      <th>y</th>\n",
       "    </tr>\n",
       "    <tr>\n",
       "      <th>group</th>\n",
       "      <th></th>\n",
       "      <th></th>\n",
       "      <th></th>\n",
       "      <th></th>\n",
       "    </tr>\n",
       "  </thead>\n",
       "  <tbody>\n",
       "    <tr>\n",
       "      <th>a</th>\n",
       "      <td>44.0</td>\n",
       "      <td>71.0</td>\n",
       "      <td>14.5</td>\n",
       "      <td>15.0</td>\n",
       "    </tr>\n",
       "    <tr>\n",
       "      <th>b</th>\n",
       "      <td>26.0</td>\n",
       "      <td>16.0</td>\n",
       "      <td>13.0</td>\n",
       "      <td>16.5</td>\n",
       "    </tr>\n",
       "  </tbody>\n",
       "</table>\n",
       "</div>"
      ],
      "text/plain": [
       "        score       value      \n",
       "program     x     y     x     y\n",
       "group                          \n",
       "a        44.0  71.0  14.5  15.0\n",
       "b        26.0  16.0  13.0  16.5"
      ]
     },
     "execution_count": 33,
     "metadata": {},
     "output_type": "execute_result"
    }
   ],
   "source": [
    "rng = np.random.default_rng(100)\n",
    "long_data = pd.DataFrame({\"group\":[\"a\", \"a\", \"a\", \"a\", \"b\", \"b\", \"b\", \"b\"],\n",
    "                          \"program\":[\"x\", \"y\", \"x\", \"y\", \"x\", \"y\", \"x\", \"y\"],\n",
    "                         \"score\":rng.integers(0, 100, 8),\n",
    "                         \"value\":rng.integers(0, 20, 8)\n",
    "                         })\n",
    "long_data.groupby([\"group\", \"program\"]).mean()\n",
    "long_data.groupby([\"group\", \"program\"]).mean().unstack()"
   ]
  }
 ],
 "metadata": {
  "kernelspec": {
   "display_name": "Python 3 (ipykernel)",
   "language": "python",
   "name": "python3"
  },
  "language_info": {
   "codemirror_mode": {
    "name": "ipython",
    "version": 3
   },
   "file_extension": ".py",
   "mimetype": "text/x-python",
   "name": "python",
   "nbconvert_exporter": "python",
   "pygments_lexer": "ipython3",
   "version": "3.9.6"
  }
 },
 "nbformat": 4,
 "nbformat_minor": 5
}
